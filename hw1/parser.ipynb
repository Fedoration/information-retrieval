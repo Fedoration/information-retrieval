{
 "cells": [
  {
   "cell_type": "code",
   "execution_count": null,
   "metadata": {},
   "outputs": [],
   "source": [
    "import re\n",
    "import logging\n",
    "import requests\n",
    "from bs4 import BeautifulSoup"
   ]
  },
  {
   "cell_type": "code",
   "execution_count": null,
   "metadata": {},
   "outputs": [],
   "source": [
    "def clean_string(input_string):\n",
    "    cleaned_string = (\n",
    "        input_string.replace(\"\\n\\n\\r\\n\", \" \")\n",
    "        .replace(\"\\r\\n\", \" \")\n",
    "        .replace(\"\\n\\n\", \" \")\n",
    "        .replace(\"\\n\", \" \")\n",
    "        .replace(\"\\n\\n\\n\", \" \")\n",
    "        .replace(\"\\n\\r\\n\", \" \")\n",
    "        .replace(\"\\r\\n\\r\\n\", \" \")\n",
    "        .replace(\"\\n\\n\\n\\n\", \" \")\n",
    "    )\n",
    "    cleaned_string = \" \".join(cleaned_string.split())\n",
    "\n",
    "    return cleaned_string"
   ]
  },
  {
   "cell_type": "markdown",
   "metadata": {},
   "source": [
    "Парсинг ссылок на хабы"
   ]
  },
  {
   "cell_type": "code",
   "execution_count": null,
   "metadata": {},
   "outputs": [],
   "source": [
    "bs = BeautifulSoup(\n",
    "    requests.get(\"https://habr.com/ru/hubs/page1/\").text,\n",
    "    \"html.parser\",\n",
    ")\n",
    "tags = bs.find_all(\"a\", attrs={\"class\": \"tm-hub__title\"})\n",
    "links = [\"https://habr.com\" + l[\"href\"] for l in tags]\n",
    "print(links)"
   ]
  },
  {
   "cell_type": "markdown",
   "metadata": {},
   "source": [
    "Пустая страница"
   ]
  },
  {
   "cell_type": "code",
   "execution_count": null,
   "metadata": {},
   "outputs": [],
   "source": [
    "beau = BeautifulSoup(\n",
    "    requests.get(\"https://habr.com/ru/hubs/page11/\").text,\n",
    "    \"html.parser\",\n",
    ")\n",
    "not_found_page = beau.find_all(\"h1\", attrs={\"class\": \"tm-error-message__title\"})\n",
    "if not_found_page:\n",
    "    print(not_found_page)\n",
    "else:\n",
    "    print(\"content\")"
   ]
  },
  {
   "cell_type": "markdown",
   "metadata": {},
   "source": [
    "Парсинг статей с одного хаба"
   ]
  },
  {
   "cell_type": "code",
   "execution_count": null,
   "metadata": {},
   "outputs": [],
   "source": [
    "page_num = 1\n",
    "beau = BeautifulSoup(\n",
    "    requests.get(\n",
    "        \"https://habr.com/ru/hubs/kohanaphp/\" + \"articles/\" + f\"page{page_num}/\"\n",
    "    ).text,\n",
    "    \"html.parser\",\n",
    ")\n",
    "not_found_page = beau.find_all(\"h1\", attrs={\"class\": \"tm-error-message__title\"})\n",
    "if not_found_page:\n",
    "    print(not_found_page)\n",
    "else:\n",
    "    tags = beau.find_all(\"a\", attrs={\"class\": \"tm-title__link\"})\n",
    "    links = [\"https://habr.com\" + l[\"href\"] for l in tags]\n",
    "    print(links)"
   ]
  },
  {
   "cell_type": "markdown",
   "metadata": {},
   "source": [
    "Парсинг статей с версией 1"
   ]
  },
  {
   "cell_type": "code",
   "execution_count": null,
   "metadata": {},
   "outputs": [],
   "source": [
    "url = \"https://habr.com/ru/companies/kodicms/articles/248937/\"\n",
    "# url = \"https://habr.com/ru/articles/796047/\"\n",
    "url = \"https://habr.com/ru/post/545634/\"\n",
    "\n",
    "response = requests.get(url)\n",
    "bs = BeautifulSoup(response.text, \"html.parser\")\n",
    "\n",
    "tags = bs.find_all(\n",
    "    \"div\",\n",
    "    attrs={\n",
    "        \"class\": \"article-formatted-body article-formatted-body article-formatted-body_version-1\"\n",
    "    },\n",
    ")\n",
    "article_title = bs.h1.text\n",
    "article_text = clean_string(tags[0].get_text().strip())\n",
    "print(article_title)\n",
    "print(article_text)"
   ]
  },
  {
   "cell_type": "markdown",
   "metadata": {},
   "source": [
    "Парсинг статей с версией 2"
   ]
  },
  {
   "cell_type": "code",
   "execution_count": null,
   "metadata": {},
   "outputs": [],
   "source": [
    "# url = \"https://habr.com/ru/companies/kodicms/articles/248937/\"\n",
    "url = \"https://habr.com/ru/articles/796047/\"\n",
    "# url = \"https://habr.com/ru/post/545634/\"\n",
    "\n",
    "response = requests.get(url)\n",
    "bs = BeautifulSoup(response.text, \"html.parser\")\n",
    "\n",
    "tags = bs.find_all(\n",
    "    \"div\",\n",
    "    attrs={\n",
    "        \"class\": \"article-formatted-body article-formatted-body article-formatted-body_version-2\"\n",
    "    },\n",
    ")\n",
    "article_title = bs.h1.text\n",
    "article_paragraphs = tags[0].find_all([\"p\", \"h1\", \"h2\", \"h3\", \"h4\", \"h5\"])\n",
    "article_text = \"\"\n",
    "for paragraph in article_paragraphs:\n",
    "    if paragraph.name in [\"h1\", \"h2\", \"h3\", \"h4\", \"h5\"]:\n",
    "        article_text += paragraph.get_text() + \". \"\n",
    "    else:\n",
    "        article_text += paragraph.get_text() + \" \"\n",
    "\n",
    "article_text = clean_string(article_text)\n",
    "print(article_title)\n",
    "print(article_text)"
   ]
  },
  {
   "cell_type": "code",
   "execution_count": null,
   "metadata": {},
   "outputs": [],
   "source": [
    "# url = \"https://habr.com/ru/companies/kodicms/articles/248937/\"\n",
    "# url = \"https://habr.com/ru/articles/796047/\"\n",
    "url = \"https://habr.com/ru/post/545634/\"\n",
    "\n",
    "response = requests.get(url)\n",
    "bs = BeautifulSoup(response.text, \"html.parser\")\n",
    "\n",
    "tags = bs.find_all(\n",
    "    \"div\",\n",
    "    attrs={\n",
    "        \"class\": \"article-formatted-body article-formatted-body article-formatted-body_version-2\"\n",
    "    },\n",
    ")\n",
    "tags"
   ]
  },
  {
   "cell_type": "markdown",
   "metadata": {},
   "source": [
    "Общий скрипт"
   ]
  },
  {
   "cell_type": "code",
   "execution_count": null,
   "metadata": {},
   "outputs": [],
   "source": [
    "def parse_hub_links(logger):\n",
    "    hubs_links = []\n",
    "    page_num = 1\n",
    "    while True:\n",
    "        url = f\"https://habr.com/ru/hubs/page{page_num}/\"\n",
    "        response = requests.get(url)\n",
    "        status_code = response.status_code\n",
    "        if status_code != 200:\n",
    "            print(\n",
    "                f\"[WARNING] Error fetching page {url}! Status code: {response.status_code}\"\n",
    "            )\n",
    "            logger.warning(\n",
    "                f\"Error fetching page {url}! Status code: {response.status_code}\"\n",
    "            )\n",
    "            break\n",
    "        else:\n",
    "            bs = BeautifulSoup(\n",
    "                response.text,\n",
    "                \"html.parser\",\n",
    "            )\n",
    "\n",
    "            not_found_page = bs.find_all(\n",
    "                \"h1\", attrs={\"class\": \"tm-error-message__title\"}\n",
    "            )\n",
    "            tags = bs.find_all(\"a\", attrs={\"class\": \"tm-hub__title\"})\n",
    "\n",
    "            if not_found_page or not tags:\n",
    "                print(f\"[WARNING] Page {url} is empty or not found, exiting...\")\n",
    "                logger.warning(f\"Page {url} is empty or not found, exiting...\")\n",
    "                break\n",
    "\n",
    "            links = [\"https://habr.com\" + l[\"href\"] for l in tags]\n",
    "            hubs_links.extend(links)\n",
    "            page_num += 1\n",
    "\n",
    "            print(f\"[INFO] Parsed {len(hubs_links)} links\")\n",
    "            logger.info(f\"Parsed {len(hubs_links)} links\")\n",
    "\n",
    "    return hubs_links\n",
    "\n",
    "\n",
    "def parse_hub_title(hub_url, logger):\n",
    "    response = requests.get(hub_url)\n",
    "    bs = BeautifulSoup(response.text, \"html.parser\")\n",
    "    hub_title = bs.h1.text.strip()\n",
    "    hub_title = hub_title.replace(\"  *\", \"\").strip()\n",
    "    return hub_title"
   ]
  },
  {
   "cell_type": "code",
   "execution_count": null,
   "metadata": {},
   "outputs": [],
   "source": [
    "def parse_hub_articles(hub_link: str, logger):\n",
    "    articles_links = []\n",
    "    page_num = 1\n",
    "    while True:\n",
    "        url = f\"{hub_link}articles/page{page_num}/\"\n",
    "        response = requests.get(url)\n",
    "        status_code = response.status_code\n",
    "        if status_code != 200:\n",
    "            print(\n",
    "                f\"[WARNING] Error fetching page {url}! Status code: {response.status_code}\"\n",
    "            )\n",
    "            logger.warning(\n",
    "                f\"Error fetching page {url}! Status code: {response.status_code}\"\n",
    "            )\n",
    "            break\n",
    "        else:\n",
    "            bs = BeautifulSoup(\n",
    "                response.text,\n",
    "                \"html.parser\",\n",
    "            )\n",
    "            not_found_page = bs.find_all(\n",
    "                \"h1\", attrs={\"class\": \"tm-error-message__title\"}\n",
    "            )\n",
    "            tags = bs.find_all(\"a\", attrs={\"class\": \"tm-title__link\"})\n",
    "\n",
    "            if not_found_page or not tags:\n",
    "                print(f\"[WARNING] Page {url} is empty or not found, exiting...\")\n",
    "                logger.warning(f\"Page {url} is empty or not found, exiting...\")\n",
    "                break\n",
    "\n",
    "            links = [\"https://habr.com\" + l[\"href\"] for l in tags]\n",
    "            articles_links.extend(links)\n",
    "            page_num += 1\n",
    "\n",
    "            print(f\"[INFO] Parsed {len(articles_links)} links\")\n",
    "            logger.info(f\"Parsed {len(articles_links)} links\")\n",
    "\n",
    "    return articles_links"
   ]
  },
  {
   "cell_type": "code",
   "execution_count": null,
   "metadata": {},
   "outputs": [],
   "source": [
    "def get_content_version(bs: BeautifulSoup) -> str:\n",
    "    tags_v1 = bs.find_all(\n",
    "        \"div\",\n",
    "        attrs={\n",
    "            \"class\": \"article-formatted-body article-formatted-body article-formatted-body_version-1\"\n",
    "        },\n",
    "    )\n",
    "    tags_v2 = bs.find_all(\n",
    "        \"div\",\n",
    "        attrs={\n",
    "            \"class\": \"article-formatted-body article-formatted-body article-formatted-body_version-2\"\n",
    "        },\n",
    "    )\n",
    "    if tags_v1:\n",
    "        return \"1\", tags_v1\n",
    "    if tags_v2:\n",
    "        return \"2\", tags_v2\n",
    "    return None, None\n",
    "\n",
    "\n",
    "def parse_article_content(url, logger):\n",
    "    response = requests.get(url)\n",
    "    status_code = response.status_code\n",
    "    if status_code != 200:\n",
    "        print(\n",
    "            f\"[ERROR] Error fetching page content {url}! Status code: {response.status_code}\"\n",
    "        )\n",
    "        logger.error(\n",
    "            f\"Error fetching page content {url}! Status code: {response.status_code}\"\n",
    "        )\n",
    "        return None\n",
    "\n",
    "    bs = BeautifulSoup(response.text, \"html.parser\")\n",
    "    content_version, tags = get_content_version(bs)\n",
    "    if content_version == \"1\":\n",
    "        article_text = tags[0].get_text().strip()\n",
    "    elif content_version == \"2\":\n",
    "        article_paragraphs = tags[0].find_all([\"p\", \"h1\", \"h2\", \"h3\", \"h4\", \"h5\"])\n",
    "        article_text = \"\"\n",
    "        for paragraph in article_paragraphs:\n",
    "            if paragraph.name in [\"h1\", \"h2\", \"h3\", \"h4\", \"h5\"]:\n",
    "                article_text += paragraph.get_text() + \". \"\n",
    "            else:\n",
    "                article_text += paragraph.get_text() + \" \"\n",
    "    else:\n",
    "        print(f\"[ERROR] Undefined conent version for {url}!\")\n",
    "        logger.error(f\"Undefined conent version for {url}!\")\n",
    "        return None\n",
    "\n",
    "    article_title = bs.h1.text\n",
    "    article_text = clean_string(article_text)\n",
    "\n",
    "    return article_title, article_text"
   ]
  },
  {
   "cell_type": "code",
   "execution_count": null,
   "metadata": {},
   "outputs": [],
   "source": [
    "logging.basicConfig(\n",
    "    level=logging.INFO,\n",
    "    filename=\"habr_parser.log\",\n",
    "    filemode=\"w\",\n",
    "    format=\"%(asctime)s %(levelname)-8s [%(filename)s:%(lineno)d] %(message)s\",\n",
    ")\n",
    "logger = logging.getLogger()\n",
    "\n",
    "corpus = []\n",
    "hubs_links = parse_hub_links(logger)\n",
    "\n",
    "for hub_url in hubs_links:\n",
    "    hub_name = parse_hub_title(hub_url, logger)\n",
    "    articles_links = parse_hub_articles(hub_url, logger)\n",
    "\n",
    "    for article_url in articles_links:\n",
    "        article_title, article_text = None, None\n",
    "        article_content = parse_article_content(article_url, logger)\n",
    "        if article_content:\n",
    "            article_title, article_text = article_content\n",
    "        else:\n",
    "            print(f\"[ERROR] No content found for article: {article_url}\")\n",
    "            logger.error(f\"No content found for article: {article_url}\")\n",
    "        corpus.append(\n",
    "            {\n",
    "                \"hub_url\": hub_url,\n",
    "                \"article_url\": article_url,\n",
    "                \"hub_name\": hub_name,\n",
    "                \"title\": article_title,\n",
    "                \"text\": article_text,\n",
    "            }\n",
    "        )\n",
    "        print(f\"[INFO] Parsed {len(corpus)} articles so far\")\n",
    "        logger.info(f\"Parsed {len(corpus)} articles so far\")"
   ]
  },
  {
   "cell_type": "code",
   "execution_count": null,
   "metadata": {},
   "outputs": [],
   "source": [
    "corpus = []\n",
    "corpus.append(\n",
    "    {\n",
    "        \"hub_url\": \"hub_url\",\n",
    "        \"article_url\": \"article_url\",\n",
    "        \"hub_name\": \"hub_name\",\n",
    "        \"title\": \"article_title\",\n",
    "        \"text\": \"article_text\",\n",
    "    }\n",
    ")"
   ]
  },
  {
   "cell_type": "code",
   "execution_count": null,
   "metadata": {},
   "outputs": [],
   "source": [
    "import json\n",
    "\n",
    "with open(\"corpus.json\", \"w\") as f:\n",
    "    json.dump(corpus, f)"
   ]
  },
  {
   "cell_type": "code",
   "execution_count": null,
   "metadata": {},
   "outputs": [],
   "source": [
    "data = None\n",
    "with open(\"corpus.json\", \"r\") as f:\n",
    "    data = json.load(f)"
   ]
  },
  {
   "cell_type": "code",
   "execution_count": null,
   "metadata": {},
   "outputs": [],
   "source": [
    "data"
   ]
  }
 ],
 "metadata": {
  "kernelspec": {
   "display_name": ".venv",
   "language": "python",
   "name": "python3"
  },
  "language_info": {
   "codemirror_mode": {
    "name": "ipython",
    "version": 3
   },
   "file_extension": ".py",
   "mimetype": "text/x-python",
   "name": "python",
   "nbconvert_exporter": "python",
   "pygments_lexer": "ipython3",
   "version": "3.11.7"
  }
 },
 "nbformat": 4,
 "nbformat_minor": 2
}
