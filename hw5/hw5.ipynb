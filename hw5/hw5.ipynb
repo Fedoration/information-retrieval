{
 "cells": [
  {
   "cell_type": "code",
   "execution_count": 16,
   "metadata": {},
   "outputs": [],
   "source": [
    "import json\n",
    "from tqdm import tqdm\n",
    "\n",
    "import numpy as np\n",
    "from transformers import AutoTokenizer, AutoModel\n",
    "import torch\n",
    "\n",
    "import faiss"
   ]
  },
  {
   "cell_type": "code",
   "execution_count": 15,
   "metadata": {},
   "outputs": [],
   "source": [
    "def mean_pooling(model_output, attention_mask):\n",
    "    token_embeddings = model_output[0]\n",
    "    input_mask_expanded = (\n",
    "        attention_mask.unsqueeze(-1).expand(token_embeddings.size()).float()\n",
    "    )\n",
    "    sum_embeddings = torch.sum(token_embeddings * input_mask_expanded, 1)\n",
    "    sum_mask = torch.clamp(input_mask_expanded.sum(1), min=1e-9)\n",
    "    return sum_embeddings / sum_mask\n",
    "\n",
    "\n",
    "device = torch.device(\"cuda\" if torch.cuda.is_available() else \"cpu\")\n",
    "\n",
    "tokenizer = AutoTokenizer.from_pretrained(\"ai-forever/sbert_large_nlu_ru\")\n",
    "model = AutoModel.from_pretrained(\"ai-forever/sbert_large_nlu_ru\").to(device)"
   ]
  },
  {
   "cell_type": "code",
   "execution_count": 17,
   "metadata": {},
   "outputs": [
    {
     "name": "stderr",
     "output_type": "stream",
     "text": [
      "100%|██████████| 125/125 [00:02<00:00, 46.57it/s]\n"
     ]
    }
   ],
   "source": [
    "with open(\"../naked_science_corpus.json\", \"r\") as f:\n",
    "    data = json.load(f)\n",
    "\n",
    "corpus_titles = np.array([article[\"article_title\"] for article in data])\n",
    "\n",
    "batch_size = 32\n",
    "corpus_embeddings = []\n",
    "batches = np.array_split(\n",
    "    corpus_titles,\n",
    "    np.floor(len(corpus_titles) / batch_size),\n",
    ")\n",
    "\n",
    "for sentences_batch in tqdm(batches):\n",
    "    sentences_batch = list(sentences_batch)\n",
    "    features = tokenizer(\n",
    "        sentences_batch,\n",
    "        max_length=48,\n",
    "        padding=True,\n",
    "        truncation=True,\n",
    "        return_tensors=\"pt\",\n",
    "    ).to(device)\n",
    "    with torch.no_grad():\n",
    "        embeddings = model(**features)\n",
    "        embeddings = (\n",
    "            mean_pooling(embeddings, features[\"attention_mask\"]).detach().cpu().numpy()\n",
    "        )\n",
    "        corpus_embeddings.extend(embeddings)\n",
    "corpus_embeddings = np.array(corpus_embeddings)\n",
    "faiss.normalize_L2(corpus_embeddings)"
   ]
  },
  {
   "cell_type": "code",
   "execution_count": 21,
   "metadata": {},
   "outputs": [
    {
     "name": "stdout",
     "output_type": "stream",
     "text": [
      "Saving index to: index.bin\n"
     ]
    }
   ],
   "source": [
    "index_cache_path = \"index.bin\"\n",
    "embedding_dim = 1024\n",
    "index = faiss.IndexFlatL2(embedding_dim)\n",
    "\n",
    "\n",
    "index.train(corpus_embeddings)\n",
    "index.add(corpus_embeddings)\n",
    "\n",
    "print(\"Saving index to:\", index_cache_path)\n",
    "faiss.write_index(index, index_cache_path)"
   ]
  },
  {
   "cell_type": "code",
   "execution_count": 39,
   "metadata": {},
   "outputs": [
    {
     "name": "stdout",
     "output_type": "stream",
     "text": [
      "Article: Радиохимия: путем ядерных превращений\n",
      "Article: Ядерная и высокотехнологичная: медицина и атом\n",
      "Article: Физики расширили понимание магнитных вихрей\n",
      "Article: Физики изучили строение фотопротеинов\n",
      "Article: Выведена формула биоминерала меди мулуита\n",
      "Article: Математика поможет усовершенствовать глубокую переработку нефти\n",
      "Article: Математика поможет предотвратить инсульт\n",
      "Article: В ТюмГУ представили математическую модель разделения газов и жидкостей\n",
      "Article: Найден мостик перехода от электроники к фотонике\n",
      "Article: Ученые переизобрели лампу накаливания\n"
     ]
    }
   ],
   "source": [
    "query = \"атомная физика\"\n",
    "k = 10\n",
    "\n",
    "features = tokenizer(\n",
    "    [query],\n",
    "    max_length=48,\n",
    "    padding=True,\n",
    "    truncation=True,\n",
    "    return_tensors=\"pt\",\n",
    ").to(device)\n",
    "\n",
    "with torch.no_grad():\n",
    "    query_embedding = model(**features)\n",
    "    query_embedding = (\n",
    "        mean_pooling(query_embedding, features[\"attention_mask\"]).detach().cpu().numpy()\n",
    "    )\n",
    "\n",
    "faiss.normalize_L2(query_embedding)\n",
    "distances, corpus_ids = index.search(query_embedding.reshape(1, -1), k)\n",
    "hits = [\n",
    "    {\"corpus_id\": id, \"score\": 1 - score}\n",
    "    for id, score in zip(corpus_ids[0], distances[0])\n",
    "]\n",
    "\n",
    "for i in range(k):\n",
    "    predicted_article = corpus_titles[hits[i][\"corpus_id\"]]\n",
    "    print(f\"Article: {predicted_article}\")"
   ]
  }
 ],
 "metadata": {
  "kernelspec": {
   "display_name": ".venv",
   "language": "python",
   "name": "python3"
  },
  "language_info": {
   "codemirror_mode": {
    "name": "ipython",
    "version": 3
   },
   "file_extension": ".py",
   "mimetype": "text/x-python",
   "name": "python",
   "nbconvert_exporter": "python",
   "pygments_lexer": "ipython3",
   "version": "3.9.16"
  }
 },
 "nbformat": 4,
 "nbformat_minor": 2
}
