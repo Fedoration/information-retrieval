{
 "cells": [
  {
   "cell_type": "code",
   "execution_count": 2,
   "metadata": {},
   "outputs": [
    {
     "name": "stdout",
     "output_type": "stream",
     "text": [
      "Ничего не найдено\n"
     ]
    }
   ],
   "source": [
    "from gensim.models import Word2Vec\n",
    "from nltk.tokenize import word_tokenize\n",
    "from collections import defaultdict\n",
    "\n",
    "# Пример корпуса текстов\n",
    "corpus = [\"Кошка ловит мышку\", \"Собака гоняет кота\", \"Мышка бежит от кошки и собаки\"]\n",
    "\n",
    "# Обучение модели Word2Vec на корпусе текстов\n",
    "tokenized_corpus = [word_tokenize(text.lower()) for text in corpus]\n",
    "model = Word2Vec(\n",
    "    sentences=tokenized_corpus, vector_size=100, window=5, min_count=1, sg=1\n",
    ")\n",
    "\n",
    "# Создаем обратный индекс с учетом векторного представления слов\n",
    "index = defaultdict(list)\n",
    "for idx, text in enumerate(corpus):\n",
    "    words = word_tokenize(text.lower())\n",
    "    for word in words:\n",
    "        index[word].append(idx)\n",
    "\n",
    "\n",
    "# Функция поиска по обратному индексу с использованием векторного представления слов\n",
    "def search(query):\n",
    "    query_words = word_tokenize(query.lower())\n",
    "    query_vec = sum([model.wv[word] for word in query_words]) / len(query_words)\n",
    "\n",
    "    result_docs = set(index[query_words[0]])\n",
    "    for word in query_words[1:]:\n",
    "        result_docs &= set(index[word])\n",
    "\n",
    "    return list(result_docs)\n",
    "\n",
    "\n",
    "# Пример запроса\n",
    "query = \"кошка мышка\"\n",
    "result = search(query)\n",
    "\n",
    "if result:\n",
    "    print(f\"Результаты поиска для запроса '{query}':\")\n",
    "    for doc_idx in result:\n",
    "        print(corpus[doc_idx])\n",
    "else:\n",
    "    print(\"Ничего не найдено\")"
   ]
  }
 ],
 "metadata": {
  "kernelspec": {
   "display_name": ".venv",
   "language": "python",
   "name": "python3"
  },
  "language_info": {
   "codemirror_mode": {
    "name": "ipython",
    "version": 3
   },
   "file_extension": ".py",
   "mimetype": "text/x-python",
   "name": "python",
   "nbconvert_exporter": "python",
   "pygments_lexer": "ipython3",
   "version": "3.11.7"
  }
 },
 "nbformat": 4,
 "nbformat_minor": 2
}
