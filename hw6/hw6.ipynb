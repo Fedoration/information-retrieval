{
 "cells": [
  {
   "cell_type": "markdown",
   "metadata": {},
   "source": [
    "Необходимо написать программу, которая принимает на вход регулярное выражение и строит по нему детерминированный конечный автомат. Далее на вход программе подается строка. Полученный конечный автомат должен "
   ]
  },
  {
   "cell_type": "code",
   "execution_count": 1,
   "metadata": {},
   "outputs": [
    {
     "name": "stdout",
     "output_type": "stream",
     "text": [
      "Строка helloworld1 не соответствует регулярному выражению.\n",
      "Строка helloworld1@mail1ru не соответствует регулярному выражению.\n",
      "Строка helloworld1@mail.ru соответствует регулярному выражению.\n"
     ]
    }
   ],
   "source": [
    "import regex\n",
    "\n",
    "\n",
    "def build_dfa(regex_pattern):\n",
    "    return regex.compile(regex_pattern)\n",
    "\n",
    "\n",
    "def check_string(dfa, input_string):\n",
    "    return bool(dfa.fullmatch(input_string))\n",
    "\n",
    "\n",
    "regex_pattern = \"^[a-zA-Z0-9_.+-]+@[a-zA-Z0-9-]+\\.[a-zA-Z0-9-.]+$\"\n",
    "dfa = build_dfa(regex_pattern)\n",
    "\n",
    "sample_input_strings = [\"helloworld1\", \"helloworld1@mail1ru\", \"helloworld1@mail.ru\"]\n",
    "\n",
    "for input_string in sample_input_strings:\n",
    "    if check_string(dfa, input_string):\n",
    "        print(f\"Строка {input_string} соответствует регулярному выражению.\")\n",
    "    else:\n",
    "        print(f\"Строка {input_string} не соответствует регулярному выражению.\")"
   ]
  }
 ],
 "metadata": {
  "kernelspec": {
   "display_name": ".venv",
   "language": "python",
   "name": "python3"
  },
  "language_info": {
   "codemirror_mode": {
    "name": "ipython",
    "version": 3
   },
   "file_extension": ".py",
   "mimetype": "text/x-python",
   "name": "python",
   "nbconvert_exporter": "python",
   "pygments_lexer": "ipython3",
   "version": "3.11.7"
  }
 },
 "nbformat": 4,
 "nbformat_minor": 2
}
